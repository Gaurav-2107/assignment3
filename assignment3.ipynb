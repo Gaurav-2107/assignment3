{
 "cells": [
  {
   "cell_type": "markdown",
   "id": "0e96570f",
   "metadata": {},
   "source": [
    "## Assignment 3"
   ]
  },
  {
   "cell_type": "markdown",
   "id": "8bf0918a",
   "metadata": {},
   "source": [
    "## Referral ID: SIRSS2101"
   ]
  },
  {
   "cell_type": "markdown",
   "id": "f761117a",
   "metadata": {},
   "source": [
    "## Name: Gaurav Ganesh Bhogale"
   ]
  },
  {
   "cell_type": "markdown",
   "id": "c70f11e6",
   "metadata": {},
   "source": [
    "## College Name: Mulund College of Commerce"
   ]
  },
  {
   "cell_type": "markdown",
   "id": "2c34821c",
   "metadata": {},
   "source": [
    "## Q1. Write a function to return nth term of Fibonacci sequence."
   ]
  },
  {
   "cell_type": "code",
   "execution_count": 4,
   "id": "156db7e8",
   "metadata": {},
   "outputs": [
    {
     "name": "stdout",
     "output_type": "stream",
     "text": [
      "\n",
      " Enter the number :\t4\n",
      "4th term of Fibonacci Series is 2\n"
     ]
    }
   ],
   "source": [
    "a=int(input(\"\\n Enter the number :\\t\"))\n",
    "def fibonacci(n):\n",
    "    if n<=0:\n",
    "        print(\"Incorrect Input\")\n",
    "    elif n == 1:\n",
    "        return 0\n",
    "    elif n == 2:\n",
    "        return 1\n",
    "    else:\n",
    "        return fibonacci(n-1)+fibonacci(n-2)\n",
    "    \n",
    "result=fibonacci(a)\n",
    "print(\"{0}th term of Fibonacci Series is {1}\".format(a,result))"
   ]
  },
  {
   "cell_type": "markdown",
   "id": "27b934c1",
   "metadata": {},
   "source": [
    "## Q2. Write a function to find out GCD of two numbers using EUCLID's algorithm."
   ]
  },
  {
   "cell_type": "code",
   "execution_count": 9,
   "id": "50bc63b5",
   "metadata": {},
   "outputs": [
    {
     "name": "stdout",
     "output_type": "stream",
     "text": [
      "\n",
      " Enter the First number :\t45\n",
      "\n",
      " Enter the Second number :\t56\n",
      "The GCD of 45 and 56 is 1\n"
     ]
    }
   ],
   "source": [
    "a=int(input(\"\\n Enter the First number :\\t\"))\n",
    "b=int(input(\"\\n Enter the Second number :\\t\"))\n",
    "c=min(a,b)\n",
    "result=1\n",
    "for i in range(2,c+1):\n",
    "    if((a%i==0) and (b%i==0)):\n",
    "        result=i\n",
    "        \n",
    "print(\"The GCD of {0} and {1} is {2}\".format(a,b,result))"
   ]
  },
  {
   "cell_type": "markdown",
   "id": "f399634a",
   "metadata": {},
   "source": [
    "## Q3. Write a function to find out LCM of two numbers in most optimizers way."
   ]
  },
  {
   "cell_type": "code",
   "execution_count": 11,
   "id": "4984fba0",
   "metadata": {},
   "outputs": [
    {
     "name": "stdout",
     "output_type": "stream",
     "text": [
      "\n",
      " Enter the First number :\t45\n",
      "\n",
      " Enter the Second number :\t40\n",
      "The LCM of 45 and 40 is 360\n"
     ]
    }
   ],
   "source": [
    "a=int(input(\"\\n Enter the First number :\\t\"))\n",
    "b=int(input(\"\\n Enter the Second number :\\t\"))\n",
    "c=max(a,b)\n",
    "while(True):\n",
    "    if((c%a==0) and (c%b==0)):\n",
    "        result=c\n",
    "        break\n",
    "    else:\n",
    "        c=c+1\n",
    "        \n",
    "print(\"The LCM of {0} and {1} is {2}\".format(a,b,result))"
   ]
  },
  {
   "cell_type": "code",
   "execution_count": null,
   "id": "37ffde2c",
   "metadata": {},
   "outputs": [],
   "source": []
  }
 ],
 "metadata": {
  "kernelspec": {
   "display_name": "Python 3",
   "language": "python",
   "name": "python3"
  },
  "language_info": {
   "codemirror_mode": {
    "name": "ipython",
    "version": 3
   },
   "file_extension": ".py",
   "mimetype": "text/x-python",
   "name": "python",
   "nbconvert_exporter": "python",
   "pygments_lexer": "ipython3",
   "version": "3.8.8"
  }
 },
 "nbformat": 4,
 "nbformat_minor": 5
}
